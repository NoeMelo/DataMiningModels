{
 "cells": [
  {
   "cell_type": "code",
   "execution_count": 2,
   "metadata": {
    "colab": {},
    "colab_type": "code",
    "id": "iToo8oxWUHML"
   },
   "outputs": [],
   "source": [
    "import pandas as pd\n",
    "import numpy as np\n",
    "from pandas import Series, DataFrame"
   ]
  },
  {
   "cell_type": "markdown",
   "metadata": {
    "colab_type": "text",
    "id": "WA2ifPCw4SAc"
   },
   "source": [
    "**DATA  TRAIN**"
   ]
  },
  {
   "cell_type": "code",
   "execution_count": 3,
   "metadata": {
    "colab": {
     "base_uri": "https://localhost:8080/",
     "height": 224
    },
    "colab_type": "code",
    "executionInfo": {
     "elapsed": 1130,
     "status": "ok",
     "timestamp": 1552685913416,
     "user": {
      "displayName": "Noe Melo Locumber",
      "photoUrl": "",
      "userId": "11002635383473304946"
     },
     "user_tz": 300
    },
    "id": "6L9MwoyCUYBX",
    "outputId": "5ff01fff-0e9f-4349-b8b0-2b8d294dd85c"
   },
   "outputs": [
    {
     "data": {
      "text/html": [
       "<div>\n",
       "<style scoped>\n",
       "    .dataframe tbody tr th:only-of-type {\n",
       "        vertical-align: middle;\n",
       "    }\n",
       "\n",
       "    .dataframe tbody tr th {\n",
       "        vertical-align: top;\n",
       "    }\n",
       "\n",
       "    .dataframe thead th {\n",
       "        text-align: right;\n",
       "    }\n",
       "</style>\n",
       "<table border=\"1\" class=\"dataframe\">\n",
       "  <thead>\n",
       "    <tr style=\"text-align: right;\">\n",
       "      <th></th>\n",
       "      <th>id</th>\n",
       "      <th>checking_balance</th>\n",
       "      <th>months_loan_duration</th>\n",
       "      <th>credit_history</th>\n",
       "      <th>purpose</th>\n",
       "      <th>amount</th>\n",
       "      <th>savings_balance</th>\n",
       "      <th>employment_duration</th>\n",
       "      <th>percent_of_income</th>\n",
       "      <th>years_at_residence</th>\n",
       "      <th>age</th>\n",
       "      <th>other_credit</th>\n",
       "      <th>housing</th>\n",
       "      <th>existing_loans_count</th>\n",
       "      <th>job</th>\n",
       "      <th>dependents</th>\n",
       "      <th>phone</th>\n",
       "      <th>default</th>\n",
       "    </tr>\n",
       "  </thead>\n",
       "  <tbody>\n",
       "    <tr>\n",
       "      <th>0</th>\n",
       "      <td>288</td>\n",
       "      <td>1 - 200 DM</td>\n",
       "      <td>48</td>\n",
       "      <td>poor</td>\n",
       "      <td>car0</td>\n",
       "      <td>7582</td>\n",
       "      <td>100 - 500 DM</td>\n",
       "      <td>unemployed</td>\n",
       "      <td>2</td>\n",
       "      <td>4</td>\n",
       "      <td>31</td>\n",
       "      <td>none</td>\n",
       "      <td>other</td>\n",
       "      <td>1</td>\n",
       "      <td>management</td>\n",
       "      <td>1</td>\n",
       "      <td>yes</td>\n",
       "      <td>no</td>\n",
       "    </tr>\n",
       "    <tr>\n",
       "      <th>1</th>\n",
       "      <td>788</td>\n",
       "      <td>unknown</td>\n",
       "      <td>48</td>\n",
       "      <td>critical</td>\n",
       "      <td>car</td>\n",
       "      <td>2751</td>\n",
       "      <td>unknown</td>\n",
       "      <td>&gt; 7 years</td>\n",
       "      <td>4</td>\n",
       "      <td>3</td>\n",
       "      <td>38</td>\n",
       "      <td>none</td>\n",
       "      <td>own</td>\n",
       "      <td>2</td>\n",
       "      <td>skilled</td>\n",
       "      <td>2</td>\n",
       "      <td>yes</td>\n",
       "      <td>no</td>\n",
       "    </tr>\n",
       "    <tr>\n",
       "      <th>2</th>\n",
       "      <td>409</td>\n",
       "      <td>unknown</td>\n",
       "      <td>24</td>\n",
       "      <td>good</td>\n",
       "      <td>furniture/appliances</td>\n",
       "      <td>3235</td>\n",
       "      <td>500 - 1000 DM</td>\n",
       "      <td>&gt; 7 years</td>\n",
       "      <td>3</td>\n",
       "      <td>2</td>\n",
       "      <td>26</td>\n",
       "      <td>none</td>\n",
       "      <td>own</td>\n",
       "      <td>1</td>\n",
       "      <td>management</td>\n",
       "      <td>1</td>\n",
       "      <td>yes</td>\n",
       "      <td>no</td>\n",
       "    </tr>\n",
       "    <tr>\n",
       "      <th>3</th>\n",
       "      <td>881</td>\n",
       "      <td>unknown</td>\n",
       "      <td>24</td>\n",
       "      <td>good</td>\n",
       "      <td>car</td>\n",
       "      <td>7814</td>\n",
       "      <td>&lt; 100 DM</td>\n",
       "      <td>4 - 7 years</td>\n",
       "      <td>3</td>\n",
       "      <td>3</td>\n",
       "      <td>38</td>\n",
       "      <td>none</td>\n",
       "      <td>own</td>\n",
       "      <td>1</td>\n",
       "      <td>management</td>\n",
       "      <td>1</td>\n",
       "      <td>yes</td>\n",
       "      <td>no</td>\n",
       "    </tr>\n",
       "    <tr>\n",
       "      <th>4</th>\n",
       "      <td>937</td>\n",
       "      <td>&gt; 200 DM</td>\n",
       "      <td>9</td>\n",
       "      <td>good</td>\n",
       "      <td>furniture/appliances</td>\n",
       "      <td>745</td>\n",
       "      <td>&lt; 100 DM</td>\n",
       "      <td>1 - 4 years</td>\n",
       "      <td>3</td>\n",
       "      <td>2</td>\n",
       "      <td>28</td>\n",
       "      <td>none</td>\n",
       "      <td>own</td>\n",
       "      <td>1</td>\n",
       "      <td>unskilled</td>\n",
       "      <td>1</td>\n",
       "      <td>no</td>\n",
       "      <td>yes</td>\n",
       "    </tr>\n",
       "  </tbody>\n",
       "</table>\n",
       "</div>"
      ],
      "text/plain": [
       "    id checking_balance  months_loan_duration credit_history  \\\n",
       "0  288       1 - 200 DM                    48           poor   \n",
       "1  788          unknown                    48       critical   \n",
       "2  409          unknown                    24           good   \n",
       "3  881          unknown                    24           good   \n",
       "4  937         > 200 DM                     9           good   \n",
       "\n",
       "                purpose  amount savings_balance employment_duration  \\\n",
       "0                  car0    7582    100 - 500 DM          unemployed   \n",
       "1                   car    2751         unknown           > 7 years   \n",
       "2  furniture/appliances    3235   500 - 1000 DM           > 7 years   \n",
       "3                   car    7814        < 100 DM         4 - 7 years   \n",
       "4  furniture/appliances     745        < 100 DM         1 - 4 years   \n",
       "\n",
       "   percent_of_income  years_at_residence  age other_credit housing  \\\n",
       "0                  2                   4   31         none   other   \n",
       "1                  4                   3   38         none     own   \n",
       "2                  3                   2   26         none     own   \n",
       "3                  3                   3   38         none     own   \n",
       "4                  3                   2   28         none     own   \n",
       "\n",
       "   existing_loans_count         job  dependents phone default  \n",
       "0                     1  management           1   yes      no  \n",
       "1                     2     skilled           2   yes      no  \n",
       "2                     1  management           1   yes      no  \n",
       "3                     1  management           1   yes      no  \n",
       "4                     1   unskilled           1    no     yes  "
      ]
     },
     "execution_count": 3,
     "metadata": {},
     "output_type": "execute_result"
    }
   ],
   "source": [
    "file = \"../Dataset/DCredit.xlsx\"\n",
    "credit_train = pd.read_excel(file, sheet_name=\"Train\")\n",
    "credit_train.head()"
   ]
  },
  {
   "cell_type": "code",
   "execution_count": 0,
   "metadata": {
    "colab": {},
    "colab_type": "code",
    "id": "1vJjSoomA7ke"
   },
   "outputs": [],
   "source": [
    "#X_train.rename(columns={'checking_balance':'checking_balance '}, inplace=True)\n",
    "#X_train.columns = X_train.columns.str.replace('checking_balance', 'checking_balance ')"
   ]
  },
  {
   "cell_type": "code",
   "execution_count": 165,
   "metadata": {
    "colab": {
     "base_uri": "https://localhost:8080/",
     "height": 34
    },
    "colab_type": "code",
    "executionInfo": {
     "elapsed": 1115,
     "status": "ok",
     "timestamp": 1552685913420,
     "user": {
      "displayName": "Noe Melo Locumber",
      "photoUrl": "",
      "userId": "11002635383473304946"
     },
     "user_tz": 300
    },
    "id": "Tc18ggJKUazk",
    "outputId": "5ea26f4a-0b72-406a-e5d9-e233e970c268"
   },
   "outputs": [
    {
     "data": {
      "text/plain": [
       "(800, 18)"
      ]
     },
     "execution_count": 165,
     "metadata": {
      "tags": []
     },
     "output_type": "execute_result"
    }
   ],
   "source": [
    "credit_train.shape"
   ]
  },
  {
   "cell_type": "code",
   "execution_count": 166,
   "metadata": {
    "colab": {
     "base_uri": "https://localhost:8080/",
     "height": 297
    },
    "colab_type": "code",
    "executionInfo": {
     "elapsed": 1092,
     "status": "ok",
     "timestamp": 1552685913420,
     "user": {
      "displayName": "Noe Melo Locumber",
      "photoUrl": "",
      "userId": "11002635383473304946"
     },
     "user_tz": 300
    },
    "id": "le6fAzZdqUWS",
    "outputId": "023dc57f-8132-495f-bc59-81ac3464a502"
   },
   "outputs": [
    {
     "data": {
      "text/html": [
       "<div>\n",
       "<style scoped>\n",
       "    .dataframe tbody tr th:only-of-type {\n",
       "        vertical-align: middle;\n",
       "    }\n",
       "\n",
       "    .dataframe tbody tr th {\n",
       "        vertical-align: top;\n",
       "    }\n",
       "\n",
       "    .dataframe thead th {\n",
       "        text-align: right;\n",
       "    }\n",
       "</style>\n",
       "<table border=\"1\" class=\"dataframe\">\n",
       "  <thead>\n",
       "    <tr style=\"text-align: right;\">\n",
       "      <th></th>\n",
       "      <th>id</th>\n",
       "      <th>months_loan_duration</th>\n",
       "      <th>amount</th>\n",
       "      <th>percent_of_income</th>\n",
       "      <th>years_at_residence</th>\n",
       "      <th>age</th>\n",
       "      <th>existing_loans_count</th>\n",
       "      <th>dependents</th>\n",
       "    </tr>\n",
       "  </thead>\n",
       "  <tbody>\n",
       "    <tr>\n",
       "      <th>count</th>\n",
       "      <td>800.000000</td>\n",
       "      <td>800.000000</td>\n",
       "      <td>800.000000</td>\n",
       "      <td>800.000000</td>\n",
       "      <td>800.000000</td>\n",
       "      <td>800.000000</td>\n",
       "      <td>800.000000</td>\n",
       "      <td>800.000000</td>\n",
       "    </tr>\n",
       "    <tr>\n",
       "      <th>mean</th>\n",
       "      <td>492.016250</td>\n",
       "      <td>21.116250</td>\n",
       "      <td>3264.193750</td>\n",
       "      <td>2.968750</td>\n",
       "      <td>2.823750</td>\n",
       "      <td>35.672500</td>\n",
       "      <td>1.408750</td>\n",
       "      <td>1.153750</td>\n",
       "    </tr>\n",
       "    <tr>\n",
       "      <th>std</th>\n",
       "      <td>292.654595</td>\n",
       "      <td>12.388486</td>\n",
       "      <td>2845.376591</td>\n",
       "      <td>1.124435</td>\n",
       "      <td>1.101909</td>\n",
       "      <td>11.451929</td>\n",
       "      <td>0.578439</td>\n",
       "      <td>0.360935</td>\n",
       "    </tr>\n",
       "    <tr>\n",
       "      <th>min</th>\n",
       "      <td>1.000000</td>\n",
       "      <td>4.000000</td>\n",
       "      <td>250.000000</td>\n",
       "      <td>1.000000</td>\n",
       "      <td>1.000000</td>\n",
       "      <td>19.000000</td>\n",
       "      <td>1.000000</td>\n",
       "      <td>1.000000</td>\n",
       "    </tr>\n",
       "    <tr>\n",
       "      <th>25%</th>\n",
       "      <td>235.750000</td>\n",
       "      <td>12.000000</td>\n",
       "      <td>1363.250000</td>\n",
       "      <td>2.000000</td>\n",
       "      <td>2.000000</td>\n",
       "      <td>27.000000</td>\n",
       "      <td>1.000000</td>\n",
       "      <td>1.000000</td>\n",
       "    </tr>\n",
       "    <tr>\n",
       "      <th>50%</th>\n",
       "      <td>483.500000</td>\n",
       "      <td>18.000000</td>\n",
       "      <td>2278.500000</td>\n",
       "      <td>3.000000</td>\n",
       "      <td>3.000000</td>\n",
       "      <td>33.000000</td>\n",
       "      <td>1.000000</td>\n",
       "      <td>1.000000</td>\n",
       "    </tr>\n",
       "    <tr>\n",
       "      <th>75%</th>\n",
       "      <td>748.250000</td>\n",
       "      <td>24.000000</td>\n",
       "      <td>3973.750000</td>\n",
       "      <td>4.000000</td>\n",
       "      <td>4.000000</td>\n",
       "      <td>42.000000</td>\n",
       "      <td>2.000000</td>\n",
       "      <td>1.000000</td>\n",
       "    </tr>\n",
       "    <tr>\n",
       "      <th>max</th>\n",
       "      <td>1000.000000</td>\n",
       "      <td>72.000000</td>\n",
       "      <td>18424.000000</td>\n",
       "      <td>4.000000</td>\n",
       "      <td>4.000000</td>\n",
       "      <td>75.000000</td>\n",
       "      <td>4.000000</td>\n",
       "      <td>2.000000</td>\n",
       "    </tr>\n",
       "  </tbody>\n",
       "</table>\n",
       "</div>"
      ],
      "text/plain": [
       "                id  months_loan_duration        amount  percent_of_income  \\\n",
       "count   800.000000            800.000000    800.000000         800.000000   \n",
       "mean    492.016250             21.116250   3264.193750           2.968750   \n",
       "std     292.654595             12.388486   2845.376591           1.124435   \n",
       "min       1.000000              4.000000    250.000000           1.000000   \n",
       "25%     235.750000             12.000000   1363.250000           2.000000   \n",
       "50%     483.500000             18.000000   2278.500000           3.000000   \n",
       "75%     748.250000             24.000000   3973.750000           4.000000   \n",
       "max    1000.000000             72.000000  18424.000000           4.000000   \n",
       "\n",
       "       years_at_residence         age  existing_loans_count  dependents  \n",
       "count          800.000000  800.000000            800.000000  800.000000  \n",
       "mean             2.823750   35.672500              1.408750    1.153750  \n",
       "std              1.101909   11.451929              0.578439    0.360935  \n",
       "min              1.000000   19.000000              1.000000    1.000000  \n",
       "25%              2.000000   27.000000              1.000000    1.000000  \n",
       "50%              3.000000   33.000000              1.000000    1.000000  \n",
       "75%              4.000000   42.000000              2.000000    1.000000  \n",
       "max              4.000000   75.000000              4.000000    2.000000  "
      ]
     },
     "execution_count": 166,
     "metadata": {
      "tags": []
     },
     "output_type": "execute_result"
    }
   ],
   "source": [
    "credit_train.describe()"
   ]
  },
  {
   "cell_type": "code",
   "execution_count": 167,
   "metadata": {
    "colab": {
     "base_uri": "https://localhost:8080/",
     "height": 224
    },
    "colab_type": "code",
    "executionInfo": {
     "elapsed": 1082,
     "status": "ok",
     "timestamp": 1552685913422,
     "user": {
      "displayName": "Noe Melo Locumber",
      "photoUrl": "",
      "userId": "11002635383473304946"
     },
     "user_tz": 300
    },
    "id": "_WOFoKMtqYOB",
    "outputId": "a43cd952-8b4b-4cff-d6c6-483aac554956"
   },
   "outputs": [
    {
     "data": {
      "text/html": [
       "<div>\n",
       "<style scoped>\n",
       "    .dataframe tbody tr th:only-of-type {\n",
       "        vertical-align: middle;\n",
       "    }\n",
       "\n",
       "    .dataframe tbody tr th {\n",
       "        vertical-align: top;\n",
       "    }\n",
       "\n",
       "    .dataframe thead th {\n",
       "        text-align: right;\n",
       "    }\n",
       "</style>\n",
       "<table border=\"1\" class=\"dataframe\">\n",
       "  <thead>\n",
       "    <tr style=\"text-align: right;\">\n",
       "      <th></th>\n",
       "      <th>checking_balance</th>\n",
       "      <th>months_loan_duration</th>\n",
       "      <th>credit_history</th>\n",
       "      <th>purpose</th>\n",
       "      <th>amount</th>\n",
       "      <th>savings_balance</th>\n",
       "      <th>employment_duration</th>\n",
       "      <th>percent_of_income</th>\n",
       "      <th>years_at_residence</th>\n",
       "      <th>age</th>\n",
       "      <th>other_credit</th>\n",
       "      <th>housing</th>\n",
       "      <th>existing_loans_count</th>\n",
       "      <th>job</th>\n",
       "      <th>dependents</th>\n",
       "      <th>phone</th>\n",
       "    </tr>\n",
       "  </thead>\n",
       "  <tbody>\n",
       "    <tr>\n",
       "      <th>0</th>\n",
       "      <td>1 - 200 DM</td>\n",
       "      <td>48</td>\n",
       "      <td>poor</td>\n",
       "      <td>car0</td>\n",
       "      <td>7582</td>\n",
       "      <td>100 - 500 DM</td>\n",
       "      <td>unemployed</td>\n",
       "      <td>2</td>\n",
       "      <td>4</td>\n",
       "      <td>31</td>\n",
       "      <td>none</td>\n",
       "      <td>other</td>\n",
       "      <td>1</td>\n",
       "      <td>management</td>\n",
       "      <td>1</td>\n",
       "      <td>yes</td>\n",
       "    </tr>\n",
       "    <tr>\n",
       "      <th>1</th>\n",
       "      <td>unknown</td>\n",
       "      <td>48</td>\n",
       "      <td>critical</td>\n",
       "      <td>car</td>\n",
       "      <td>2751</td>\n",
       "      <td>unknown</td>\n",
       "      <td>&gt; 7 years</td>\n",
       "      <td>4</td>\n",
       "      <td>3</td>\n",
       "      <td>38</td>\n",
       "      <td>none</td>\n",
       "      <td>own</td>\n",
       "      <td>2</td>\n",
       "      <td>skilled</td>\n",
       "      <td>2</td>\n",
       "      <td>yes</td>\n",
       "    </tr>\n",
       "    <tr>\n",
       "      <th>2</th>\n",
       "      <td>unknown</td>\n",
       "      <td>24</td>\n",
       "      <td>good</td>\n",
       "      <td>furniture/appliances</td>\n",
       "      <td>3235</td>\n",
       "      <td>500 - 1000 DM</td>\n",
       "      <td>&gt; 7 years</td>\n",
       "      <td>3</td>\n",
       "      <td>2</td>\n",
       "      <td>26</td>\n",
       "      <td>none</td>\n",
       "      <td>own</td>\n",
       "      <td>1</td>\n",
       "      <td>management</td>\n",
       "      <td>1</td>\n",
       "      <td>yes</td>\n",
       "    </tr>\n",
       "    <tr>\n",
       "      <th>3</th>\n",
       "      <td>unknown</td>\n",
       "      <td>24</td>\n",
       "      <td>good</td>\n",
       "      <td>car</td>\n",
       "      <td>7814</td>\n",
       "      <td>&lt; 100 DM</td>\n",
       "      <td>4 - 7 years</td>\n",
       "      <td>3</td>\n",
       "      <td>3</td>\n",
       "      <td>38</td>\n",
       "      <td>none</td>\n",
       "      <td>own</td>\n",
       "      <td>1</td>\n",
       "      <td>management</td>\n",
       "      <td>1</td>\n",
       "      <td>yes</td>\n",
       "    </tr>\n",
       "    <tr>\n",
       "      <th>4</th>\n",
       "      <td>&gt; 200 DM</td>\n",
       "      <td>9</td>\n",
       "      <td>good</td>\n",
       "      <td>furniture/appliances</td>\n",
       "      <td>745</td>\n",
       "      <td>&lt; 100 DM</td>\n",
       "      <td>1 - 4 years</td>\n",
       "      <td>3</td>\n",
       "      <td>2</td>\n",
       "      <td>28</td>\n",
       "      <td>none</td>\n",
       "      <td>own</td>\n",
       "      <td>1</td>\n",
       "      <td>unskilled</td>\n",
       "      <td>1</td>\n",
       "      <td>no</td>\n",
       "    </tr>\n",
       "  </tbody>\n",
       "</table>\n",
       "</div>"
      ],
      "text/plain": [
       "  checking_balance  months_loan_duration credit_history               purpose  \\\n",
       "0       1 - 200 DM                    48           poor                  car0   \n",
       "1          unknown                    48       critical                   car   \n",
       "2          unknown                    24           good  furniture/appliances   \n",
       "3          unknown                    24           good                   car   \n",
       "4         > 200 DM                     9           good  furniture/appliances   \n",
       "\n",
       "   amount savings_balance employment_duration  percent_of_income  \\\n",
       "0    7582    100 - 500 DM          unemployed                  2   \n",
       "1    2751         unknown           > 7 years                  4   \n",
       "2    3235   500 - 1000 DM           > 7 years                  3   \n",
       "3    7814        < 100 DM         4 - 7 years                  3   \n",
       "4     745        < 100 DM         1 - 4 years                  3   \n",
       "\n",
       "   years_at_residence  age other_credit housing  existing_loans_count  \\\n",
       "0                   4   31         none   other                     1   \n",
       "1                   3   38         none     own                     2   \n",
       "2                   2   26         none     own                     1   \n",
       "3                   3   38         none     own                     1   \n",
       "4                   2   28         none     own                     1   \n",
       "\n",
       "          job  dependents phone  \n",
       "0  management           1   yes  \n",
       "1     skilled           2   yes  \n",
       "2  management           1   yes  \n",
       "3  management           1   yes  \n",
       "4   unskilled           1    no  "
      ]
     },
     "execution_count": 167,
     "metadata": {
      "tags": []
     },
     "output_type": "execute_result"
    }
   ],
   "source": [
    "X_train = credit_train.iloc[:,1:17] #separamos a los Xi del Y\n",
    "X_train.head()"
   ]
  },
  {
   "cell_type": "code",
   "execution_count": 0,
   "metadata": {
    "colab": {},
    "colab_type": "code",
    "id": "aFEvAEQpqmCu"
   },
   "outputs": [],
   "source": [
    "from sklearn.preprocessing import LabelEncoder, OneHotEncoder"
   ]
  },
  {
   "cell_type": "code",
   "execution_count": 0,
   "metadata": {
    "colab": {},
    "colab_type": "code",
    "id": "QGujbh9Kqp2o"
   },
   "outputs": [],
   "source": [
    "lb_make = LabelEncoder()\n",
    "X_train[\"checking_balance\"] = lb_make.fit_transform(X_train[\"checking_balance\"])\n",
    "X_train[\"credit_history\"] = lb_make.fit_transform(X_train[\"credit_history\"])\n",
    "X_train[\"purpose\"] = lb_make.fit_transform(X_train[\"purpose\"])\n",
    "X_train[\"savings_balance\"] = lb_make.fit_transform(X_train[\"savings_balance\"])\n",
    "X_train[\"employment_duration\"] = lb_make.fit_transform(X_train[\"employment_duration\"])\n",
    "X_train[\"other_credit\"] = lb_make.fit_transform(X_train[\"other_credit\"])\n",
    "X_train[\"housing\"] = lb_make.fit_transform(X_train[\"housing\"])\n",
    "X_train[\"job\"] = lb_make.fit_transform(X_train[\"job\"])\n",
    "X_train[\"phone\"] = lb_make.fit_transform(X_train[\"phone\"])"
   ]
  },
  {
   "cell_type": "code",
   "execution_count": 170,
   "metadata": {
    "colab": {
     "base_uri": "https://localhost:8080/",
     "height": 224
    },
    "colab_type": "code",
    "executionInfo": {
     "elapsed": 1392,
     "status": "ok",
     "timestamp": 1552685913752,
     "user": {
      "displayName": "Noe Melo Locumber",
      "photoUrl": "",
      "userId": "11002635383473304946"
     },
     "user_tz": 300
    },
    "id": "2yyw_2laqyqs",
    "outputId": "a1495f45-2ee4-4ad2-eb8f-2831758b8c7c"
   },
   "outputs": [
    {
     "data": {
      "text/html": [
       "<div>\n",
       "<style scoped>\n",
       "    .dataframe tbody tr th:only-of-type {\n",
       "        vertical-align: middle;\n",
       "    }\n",
       "\n",
       "    .dataframe tbody tr th {\n",
       "        vertical-align: top;\n",
       "    }\n",
       "\n",
       "    .dataframe thead th {\n",
       "        text-align: right;\n",
       "    }\n",
       "</style>\n",
       "<table border=\"1\" class=\"dataframe\">\n",
       "  <thead>\n",
       "    <tr style=\"text-align: right;\">\n",
       "      <th></th>\n",
       "      <th>checking_balance</th>\n",
       "      <th>months_loan_duration</th>\n",
       "      <th>credit_history</th>\n",
       "      <th>purpose</th>\n",
       "      <th>amount</th>\n",
       "      <th>savings_balance</th>\n",
       "      <th>employment_duration</th>\n",
       "      <th>percent_of_income</th>\n",
       "      <th>years_at_residence</th>\n",
       "      <th>age</th>\n",
       "      <th>other_credit</th>\n",
       "      <th>housing</th>\n",
       "      <th>existing_loans_count</th>\n",
       "      <th>job</th>\n",
       "      <th>dependents</th>\n",
       "      <th>phone</th>\n",
       "    </tr>\n",
       "  </thead>\n",
       "  <tbody>\n",
       "    <tr>\n",
       "      <th>0</th>\n",
       "      <td>0</td>\n",
       "      <td>48</td>\n",
       "      <td>3</td>\n",
       "      <td>2</td>\n",
       "      <td>7582</td>\n",
       "      <td>0</td>\n",
       "      <td>4</td>\n",
       "      <td>2</td>\n",
       "      <td>4</td>\n",
       "      <td>31</td>\n",
       "      <td>1</td>\n",
       "      <td>0</td>\n",
       "      <td>1</td>\n",
       "      <td>0</td>\n",
       "      <td>1</td>\n",
       "      <td>1</td>\n",
       "    </tr>\n",
       "    <tr>\n",
       "      <th>1</th>\n",
       "      <td>3</td>\n",
       "      <td>48</td>\n",
       "      <td>0</td>\n",
       "      <td>1</td>\n",
       "      <td>2751</td>\n",
       "      <td>4</td>\n",
       "      <td>3</td>\n",
       "      <td>4</td>\n",
       "      <td>3</td>\n",
       "      <td>38</td>\n",
       "      <td>1</td>\n",
       "      <td>1</td>\n",
       "      <td>2</td>\n",
       "      <td>1</td>\n",
       "      <td>2</td>\n",
       "      <td>1</td>\n",
       "    </tr>\n",
       "    <tr>\n",
       "      <th>2</th>\n",
       "      <td>3</td>\n",
       "      <td>24</td>\n",
       "      <td>1</td>\n",
       "      <td>4</td>\n",
       "      <td>3235</td>\n",
       "      <td>1</td>\n",
       "      <td>3</td>\n",
       "      <td>3</td>\n",
       "      <td>2</td>\n",
       "      <td>26</td>\n",
       "      <td>1</td>\n",
       "      <td>1</td>\n",
       "      <td>1</td>\n",
       "      <td>0</td>\n",
       "      <td>1</td>\n",
       "      <td>1</td>\n",
       "    </tr>\n",
       "    <tr>\n",
       "      <th>3</th>\n",
       "      <td>3</td>\n",
       "      <td>24</td>\n",
       "      <td>1</td>\n",
       "      <td>1</td>\n",
       "      <td>7814</td>\n",
       "      <td>2</td>\n",
       "      <td>1</td>\n",
       "      <td>3</td>\n",
       "      <td>3</td>\n",
       "      <td>38</td>\n",
       "      <td>1</td>\n",
       "      <td>1</td>\n",
       "      <td>1</td>\n",
       "      <td>0</td>\n",
       "      <td>1</td>\n",
       "      <td>1</td>\n",
       "    </tr>\n",
       "    <tr>\n",
       "      <th>4</th>\n",
       "      <td>2</td>\n",
       "      <td>9</td>\n",
       "      <td>1</td>\n",
       "      <td>4</td>\n",
       "      <td>745</td>\n",
       "      <td>2</td>\n",
       "      <td>0</td>\n",
       "      <td>3</td>\n",
       "      <td>2</td>\n",
       "      <td>28</td>\n",
       "      <td>1</td>\n",
       "      <td>1</td>\n",
       "      <td>1</td>\n",
       "      <td>3</td>\n",
       "      <td>1</td>\n",
       "      <td>0</td>\n",
       "    </tr>\n",
       "  </tbody>\n",
       "</table>\n",
       "</div>"
      ],
      "text/plain": [
       "   checking_balance  months_loan_duration  credit_history  purpose  amount  \\\n",
       "0                 0                    48               3        2    7582   \n",
       "1                 3                    48               0        1    2751   \n",
       "2                 3                    24               1        4    3235   \n",
       "3                 3                    24               1        1    7814   \n",
       "4                 2                     9               1        4     745   \n",
       "\n",
       "   savings_balance  employment_duration  percent_of_income  \\\n",
       "0                0                    4                  2   \n",
       "1                4                    3                  4   \n",
       "2                1                    3                  3   \n",
       "3                2                    1                  3   \n",
       "4                2                    0                  3   \n",
       "\n",
       "   years_at_residence  age  other_credit  housing  existing_loans_count  job  \\\n",
       "0                   4   31             1        0                     1    0   \n",
       "1                   3   38             1        1                     2    1   \n",
       "2                   2   26             1        1                     1    0   \n",
       "3                   3   38             1        1                     1    0   \n",
       "4                   2   28             1        1                     1    3   \n",
       "\n",
       "   dependents  phone  \n",
       "0           1      1  \n",
       "1           2      1  \n",
       "2           1      1  \n",
       "3           1      1  \n",
       "4           1      0  "
      ]
     },
     "execution_count": 170,
     "metadata": {
      "tags": []
     },
     "output_type": "execute_result"
    }
   ],
   "source": [
    "X_train.head()"
   ]
  },
  {
   "cell_type": "code",
   "execution_count": 171,
   "metadata": {
    "colab": {
     "base_uri": "https://localhost:8080/",
     "height": 119
    },
    "colab_type": "code",
    "executionInfo": {
     "elapsed": 1382,
     "status": "ok",
     "timestamp": 1552685913753,
     "user": {
      "displayName": "Noe Melo Locumber",
      "photoUrl": "",
      "userId": "11002635383473304946"
     },
     "user_tz": 300
    },
    "id": "myr8PXhaq1vR",
    "outputId": "69cbf5ec-0560-4327-e192-c6c6a39ee7f2"
   },
   "outputs": [
    {
     "data": {
      "text/plain": [
       "0     no\n",
       "1     no\n",
       "2     no\n",
       "3     no\n",
       "4    yes\n",
       "Name: default, dtype: object"
      ]
     },
     "execution_count": 171,
     "metadata": {
      "tags": []
     },
     "output_type": "execute_result"
    }
   ],
   "source": [
    "y_train = credit_train.default\n",
    "y_train.head()"
   ]
  },
  {
   "cell_type": "code",
   "execution_count": 172,
   "metadata": {
    "colab": {
     "base_uri": "https://localhost:8080/",
     "height": 68
    },
    "colab_type": "code",
    "executionInfo": {
     "elapsed": 1368,
     "status": "ok",
     "timestamp": 1552685913754,
     "user": {
      "displayName": "Noe Melo Locumber",
      "photoUrl": "",
      "userId": "11002635383473304946"
     },
     "user_tz": 300
    },
    "id": "UXA1KyfQq-r5",
    "outputId": "93a1d38d-e0aa-4b2a-d22d-78ff84937507"
   },
   "outputs": [
    {
     "data": {
      "text/plain": [
       "0    562\n",
       "1    238\n",
       "dtype: int64"
      ]
     },
     "execution_count": 172,
     "metadata": {
      "tags": []
     },
     "output_type": "execute_result"
    }
   ],
   "source": [
    "l=LabelEncoder()\n",
    "l.fit(y_train)\n",
    "l.classes_\n",
    "y_train = Series(l.transform(y_train))\n",
    "y_train.value_counts()"
   ]
  },
  {
   "cell_type": "code",
   "execution_count": 173,
   "metadata": {
    "colab": {
     "base_uri": "https://localhost:8080/",
     "height": 119
    },
    "colab_type": "code",
    "executionInfo": {
     "elapsed": 1358,
     "status": "ok",
     "timestamp": 1552685913756,
     "user": {
      "displayName": "Noe Melo Locumber",
      "photoUrl": "",
      "userId": "11002635383473304946"
     },
     "user_tz": 300
    },
    "id": "6sCKosAvvSNY",
    "outputId": "e76f5b30-9bd5-4ee4-d875-8cf762e2d2c9"
   },
   "outputs": [
    {
     "data": {
      "text/plain": [
       "0    0\n",
       "1    0\n",
       "2    0\n",
       "3    0\n",
       "4    1\n",
       "dtype: int64"
      ]
     },
     "execution_count": 173,
     "metadata": {
      "tags": []
     },
     "output_type": "execute_result"
    }
   ],
   "source": [
    "y_train.head()"
   ]
  },
  {
   "cell_type": "markdown",
   "metadata": {
    "colab_type": "text",
    "id": "VmzUbV_S4c1f"
   },
   "source": [
    "**DATA TEST**"
   ]
  },
  {
   "cell_type": "code",
   "execution_count": 174,
   "metadata": {
    "colab": {
     "base_uri": "https://localhost:8080/",
     "height": 224
    },
    "colab_type": "code",
    "executionInfo": {
     "elapsed": 1352,
     "status": "ok",
     "timestamp": 1552685913761,
     "user": {
      "displayName": "Noe Melo Locumber",
      "photoUrl": "",
      "userId": "11002635383473304946"
     },
     "user_tz": 300
    },
    "id": "Fca5Pepl4QIh",
    "outputId": "0599c72c-780d-43e0-9798-6b8902d9491e"
   },
   "outputs": [
    {
     "data": {
      "text/html": [
       "<div>\n",
       "<style scoped>\n",
       "    .dataframe tbody tr th:only-of-type {\n",
       "        vertical-align: middle;\n",
       "    }\n",
       "\n",
       "    .dataframe tbody tr th {\n",
       "        vertical-align: top;\n",
       "    }\n",
       "\n",
       "    .dataframe thead th {\n",
       "        text-align: right;\n",
       "    }\n",
       "</style>\n",
       "<table border=\"1\" class=\"dataframe\">\n",
       "  <thead>\n",
       "    <tr style=\"text-align: right;\">\n",
       "      <th></th>\n",
       "      <th>id</th>\n",
       "      <th>checking_balance</th>\n",
       "      <th>months_loan_duration</th>\n",
       "      <th>credit_history</th>\n",
       "      <th>purpose</th>\n",
       "      <th>amount</th>\n",
       "      <th>savings_balance</th>\n",
       "      <th>employment_duration</th>\n",
       "      <th>percent_of_income</th>\n",
       "      <th>years_at_residence</th>\n",
       "      <th>age</th>\n",
       "      <th>other_credit</th>\n",
       "      <th>housing</th>\n",
       "      <th>existing_loans_count</th>\n",
       "      <th>job</th>\n",
       "      <th>dependents</th>\n",
       "      <th>phone</th>\n",
       "      <th>default</th>\n",
       "    </tr>\n",
       "  </thead>\n",
       "  <tbody>\n",
       "    <tr>\n",
       "      <th>0</th>\n",
       "      <td>3</td>\n",
       "      <td>unknown</td>\n",
       "      <td>12</td>\n",
       "      <td>critical</td>\n",
       "      <td>education</td>\n",
       "      <td>2096</td>\n",
       "      <td>&lt; 100 DM</td>\n",
       "      <td>4 - 7 years</td>\n",
       "      <td>2</td>\n",
       "      <td>3</td>\n",
       "      <td>49</td>\n",
       "      <td>none</td>\n",
       "      <td>own</td>\n",
       "      <td>1</td>\n",
       "      <td>unskilled</td>\n",
       "      <td>2</td>\n",
       "      <td>no</td>\n",
       "      <td>no</td>\n",
       "    </tr>\n",
       "    <tr>\n",
       "      <th>1</th>\n",
       "      <td>10</td>\n",
       "      <td>1 - 200 DM</td>\n",
       "      <td>30</td>\n",
       "      <td>critical</td>\n",
       "      <td>car</td>\n",
       "      <td>5234</td>\n",
       "      <td>&lt; 100 DM</td>\n",
       "      <td>unemployed</td>\n",
       "      <td>4</td>\n",
       "      <td>2</td>\n",
       "      <td>28</td>\n",
       "      <td>none</td>\n",
       "      <td>own</td>\n",
       "      <td>2</td>\n",
       "      <td>management</td>\n",
       "      <td>1</td>\n",
       "      <td>no</td>\n",
       "      <td>yes</td>\n",
       "    </tr>\n",
       "    <tr>\n",
       "      <th>2</th>\n",
       "      <td>11</td>\n",
       "      <td>1 - 200 DM</td>\n",
       "      <td>12</td>\n",
       "      <td>good</td>\n",
       "      <td>car</td>\n",
       "      <td>1295</td>\n",
       "      <td>&lt; 100 DM</td>\n",
       "      <td>&lt; 1 year</td>\n",
       "      <td>3</td>\n",
       "      <td>1</td>\n",
       "      <td>25</td>\n",
       "      <td>none</td>\n",
       "      <td>rent</td>\n",
       "      <td>1</td>\n",
       "      <td>skilled</td>\n",
       "      <td>1</td>\n",
       "      <td>no</td>\n",
       "      <td>yes</td>\n",
       "    </tr>\n",
       "    <tr>\n",
       "      <th>3</th>\n",
       "      <td>14</td>\n",
       "      <td>&lt; 0 DM</td>\n",
       "      <td>24</td>\n",
       "      <td>critical</td>\n",
       "      <td>car</td>\n",
       "      <td>1199</td>\n",
       "      <td>&lt; 100 DM</td>\n",
       "      <td>&gt; 7 years</td>\n",
       "      <td>4</td>\n",
       "      <td>4</td>\n",
       "      <td>60</td>\n",
       "      <td>none</td>\n",
       "      <td>own</td>\n",
       "      <td>2</td>\n",
       "      <td>unskilled</td>\n",
       "      <td>1</td>\n",
       "      <td>no</td>\n",
       "      <td>yes</td>\n",
       "    </tr>\n",
       "    <tr>\n",
       "      <th>4</th>\n",
       "      <td>27</td>\n",
       "      <td>unknown</td>\n",
       "      <td>6</td>\n",
       "      <td>perfect</td>\n",
       "      <td>furniture/appliances</td>\n",
       "      <td>426</td>\n",
       "      <td>&lt; 100 DM</td>\n",
       "      <td>&gt; 7 years</td>\n",
       "      <td>4</td>\n",
       "      <td>4</td>\n",
       "      <td>39</td>\n",
       "      <td>none</td>\n",
       "      <td>own</td>\n",
       "      <td>1</td>\n",
       "      <td>unskilled</td>\n",
       "      <td>1</td>\n",
       "      <td>no</td>\n",
       "      <td>no</td>\n",
       "    </tr>\n",
       "  </tbody>\n",
       "</table>\n",
       "</div>"
      ],
      "text/plain": [
       "   id checking_balance  months_loan_duration credit_history  \\\n",
       "0   3          unknown                    12       critical   \n",
       "1  10       1 - 200 DM                    30       critical   \n",
       "2  11       1 - 200 DM                    12           good   \n",
       "3  14           < 0 DM                    24       critical   \n",
       "4  27          unknown                     6        perfect   \n",
       "\n",
       "                purpose  amount savings_balance employment_duration  \\\n",
       "0             education    2096        < 100 DM         4 - 7 years   \n",
       "1                   car    5234        < 100 DM          unemployed   \n",
       "2                   car    1295        < 100 DM            < 1 year   \n",
       "3                   car    1199        < 100 DM           > 7 years   \n",
       "4  furniture/appliances     426        < 100 DM           > 7 years   \n",
       "\n",
       "   percent_of_income  years_at_residence  age other_credit housing  \\\n",
       "0                  2                   3   49         none     own   \n",
       "1                  4                   2   28         none     own   \n",
       "2                  3                   1   25         none    rent   \n",
       "3                  4                   4   60         none     own   \n",
       "4                  4                   4   39         none     own   \n",
       "\n",
       "   existing_loans_count         job  dependents phone default  \n",
       "0                     1   unskilled           2    no      no  \n",
       "1                     2  management           1    no     yes  \n",
       "2                     1     skilled           1    no     yes  \n",
       "3                     2   unskilled           1    no     yes  \n",
       "4                     1   unskilled           1    no      no  "
      ]
     },
     "execution_count": 174,
     "metadata": {
      "tags": []
     },
     "output_type": "execute_result"
    }
   ],
   "source": [
    "#file = \"../Dataset/DCredit.xlsx\"\n",
    "credit_test = pd.read_excel(file, sheet_name=\"Test\")\n",
    "credit_test.head()"
   ]
  },
  {
   "cell_type": "code",
   "execution_count": 175,
   "metadata": {
    "colab": {
     "base_uri": "https://localhost:8080/",
     "height": 34
    },
    "colab_type": "code",
    "executionInfo": {
     "elapsed": 1338,
     "status": "ok",
     "timestamp": 1552685913763,
     "user": {
      "displayName": "Noe Melo Locumber",
      "photoUrl": "",
      "userId": "11002635383473304946"
     },
     "user_tz": 300
    },
    "id": "HxI6JHLw4q0U",
    "outputId": "c1d4ec1d-f798-4985-fac5-7386c56adbaf"
   },
   "outputs": [
    {
     "data": {
      "text/plain": [
       "(200, 18)"
      ]
     },
     "execution_count": 175,
     "metadata": {
      "tags": []
     },
     "output_type": "execute_result"
    }
   ],
   "source": [
    "credit_test.shape"
   ]
  },
  {
   "cell_type": "code",
   "execution_count": 176,
   "metadata": {
    "colab": {
     "base_uri": "https://localhost:8080/",
     "height": 224
    },
    "colab_type": "code",
    "executionInfo": {
     "elapsed": 1739,
     "status": "ok",
     "timestamp": 1552685914175,
     "user": {
      "displayName": "Noe Melo Locumber",
      "photoUrl": "",
      "userId": "11002635383473304946"
     },
     "user_tz": 300
    },
    "id": "sR0YEIQc4rMo",
    "outputId": "a38c33bf-b567-46b8-a4e7-e25da4847d9e"
   },
   "outputs": [
    {
     "data": {
      "text/html": [
       "<div>\n",
       "<style scoped>\n",
       "    .dataframe tbody tr th:only-of-type {\n",
       "        vertical-align: middle;\n",
       "    }\n",
       "\n",
       "    .dataframe tbody tr th {\n",
       "        vertical-align: top;\n",
       "    }\n",
       "\n",
       "    .dataframe thead th {\n",
       "        text-align: right;\n",
       "    }\n",
       "</style>\n",
       "<table border=\"1\" class=\"dataframe\">\n",
       "  <thead>\n",
       "    <tr style=\"text-align: right;\">\n",
       "      <th></th>\n",
       "      <th>checking_balance</th>\n",
       "      <th>months_loan_duration</th>\n",
       "      <th>credit_history</th>\n",
       "      <th>purpose</th>\n",
       "      <th>amount</th>\n",
       "      <th>savings_balance</th>\n",
       "      <th>employment_duration</th>\n",
       "      <th>percent_of_income</th>\n",
       "      <th>years_at_residence</th>\n",
       "      <th>age</th>\n",
       "      <th>other_credit</th>\n",
       "      <th>housing</th>\n",
       "      <th>existing_loans_count</th>\n",
       "      <th>job</th>\n",
       "      <th>dependents</th>\n",
       "      <th>phone</th>\n",
       "    </tr>\n",
       "  </thead>\n",
       "  <tbody>\n",
       "    <tr>\n",
       "      <th>0</th>\n",
       "      <td>unknown</td>\n",
       "      <td>12</td>\n",
       "      <td>critical</td>\n",
       "      <td>education</td>\n",
       "      <td>2096</td>\n",
       "      <td>&lt; 100 DM</td>\n",
       "      <td>4 - 7 years</td>\n",
       "      <td>2</td>\n",
       "      <td>3</td>\n",
       "      <td>49</td>\n",
       "      <td>none</td>\n",
       "      <td>own</td>\n",
       "      <td>1</td>\n",
       "      <td>unskilled</td>\n",
       "      <td>2</td>\n",
       "      <td>no</td>\n",
       "    </tr>\n",
       "    <tr>\n",
       "      <th>1</th>\n",
       "      <td>1 - 200 DM</td>\n",
       "      <td>30</td>\n",
       "      <td>critical</td>\n",
       "      <td>car</td>\n",
       "      <td>5234</td>\n",
       "      <td>&lt; 100 DM</td>\n",
       "      <td>unemployed</td>\n",
       "      <td>4</td>\n",
       "      <td>2</td>\n",
       "      <td>28</td>\n",
       "      <td>none</td>\n",
       "      <td>own</td>\n",
       "      <td>2</td>\n",
       "      <td>management</td>\n",
       "      <td>1</td>\n",
       "      <td>no</td>\n",
       "    </tr>\n",
       "    <tr>\n",
       "      <th>2</th>\n",
       "      <td>1 - 200 DM</td>\n",
       "      <td>12</td>\n",
       "      <td>good</td>\n",
       "      <td>car</td>\n",
       "      <td>1295</td>\n",
       "      <td>&lt; 100 DM</td>\n",
       "      <td>&lt; 1 year</td>\n",
       "      <td>3</td>\n",
       "      <td>1</td>\n",
       "      <td>25</td>\n",
       "      <td>none</td>\n",
       "      <td>rent</td>\n",
       "      <td>1</td>\n",
       "      <td>skilled</td>\n",
       "      <td>1</td>\n",
       "      <td>no</td>\n",
       "    </tr>\n",
       "    <tr>\n",
       "      <th>3</th>\n",
       "      <td>&lt; 0 DM</td>\n",
       "      <td>24</td>\n",
       "      <td>critical</td>\n",
       "      <td>car</td>\n",
       "      <td>1199</td>\n",
       "      <td>&lt; 100 DM</td>\n",
       "      <td>&gt; 7 years</td>\n",
       "      <td>4</td>\n",
       "      <td>4</td>\n",
       "      <td>60</td>\n",
       "      <td>none</td>\n",
       "      <td>own</td>\n",
       "      <td>2</td>\n",
       "      <td>unskilled</td>\n",
       "      <td>1</td>\n",
       "      <td>no</td>\n",
       "    </tr>\n",
       "    <tr>\n",
       "      <th>4</th>\n",
       "      <td>unknown</td>\n",
       "      <td>6</td>\n",
       "      <td>perfect</td>\n",
       "      <td>furniture/appliances</td>\n",
       "      <td>426</td>\n",
       "      <td>&lt; 100 DM</td>\n",
       "      <td>&gt; 7 years</td>\n",
       "      <td>4</td>\n",
       "      <td>4</td>\n",
       "      <td>39</td>\n",
       "      <td>none</td>\n",
       "      <td>own</td>\n",
       "      <td>1</td>\n",
       "      <td>unskilled</td>\n",
       "      <td>1</td>\n",
       "      <td>no</td>\n",
       "    </tr>\n",
       "  </tbody>\n",
       "</table>\n",
       "</div>"
      ],
      "text/plain": [
       "  checking_balance  months_loan_duration credit_history               purpose  \\\n",
       "0          unknown                    12       critical             education   \n",
       "1       1 - 200 DM                    30       critical                   car   \n",
       "2       1 - 200 DM                    12           good                   car   \n",
       "3           < 0 DM                    24       critical                   car   \n",
       "4          unknown                     6        perfect  furniture/appliances   \n",
       "\n",
       "   amount savings_balance employment_duration  percent_of_income  \\\n",
       "0    2096        < 100 DM         4 - 7 years                  2   \n",
       "1    5234        < 100 DM          unemployed                  4   \n",
       "2    1295        < 100 DM            < 1 year                  3   \n",
       "3    1199        < 100 DM           > 7 years                  4   \n",
       "4     426        < 100 DM           > 7 years                  4   \n",
       "\n",
       "   years_at_residence  age other_credit housing  existing_loans_count  \\\n",
       "0                   3   49         none     own                     1   \n",
       "1                   2   28         none     own                     2   \n",
       "2                   1   25         none    rent                     1   \n",
       "3                   4   60         none     own                     2   \n",
       "4                   4   39         none     own                     1   \n",
       "\n",
       "          job  dependents phone  \n",
       "0   unskilled           2    no  \n",
       "1  management           1    no  \n",
       "2     skilled           1    no  \n",
       "3   unskilled           1    no  \n",
       "4   unskilled           1    no  "
      ]
     },
     "execution_count": 176,
     "metadata": {
      "tags": []
     },
     "output_type": "execute_result"
    }
   ],
   "source": [
    "X_test = credit_test.iloc[:,1:-1] # quitamos el ID y el Y, primero y último iloc https://www.shanelynn.ie/select-pandas-dataframe-rows-and-columns-using-iloc-loc-and-ix/\n",
    "X_test.head()"
   ]
  },
  {
   "cell_type": "code",
   "execution_count": 0,
   "metadata": {
    "colab": {},
    "colab_type": "code",
    "id": "TuwlcSXp6RJs"
   },
   "outputs": [],
   "source": [
    "lb_make = LabelEncoder()\n",
    "X_test[\"checking_balance\"] = lb_make.fit_transform(X_test[\"checking_balance\"])\n",
    "X_test[\"credit_history\"] = lb_make.fit_transform(X_test[\"credit_history\"])\n",
    "X_test[\"purpose\"] = lb_make.fit_transform(X_test[\"purpose\"])\n",
    "X_test[\"savings_balance\"] = lb_make.fit_transform(X_test[\"savings_balance\"])\n",
    "X_test[\"employment_duration\"] = lb_make.fit_transform(X_test[\"employment_duration\"])\n",
    "X_test[\"other_credit\"] = lb_make.fit_transform(X_test[\"other_credit\"])\n",
    "X_test[\"housing\"] = lb_make.fit_transform(X_test[\"housing\"])\n",
    "X_test[\"job\"] = lb_make.fit_transform(X_test[\"job\"])\n",
    "X_test[\"phone\"] = lb_make.fit_transform(X_test[\"phone\"])"
   ]
  },
  {
   "cell_type": "code",
   "execution_count": 178,
   "metadata": {
    "colab": {
     "base_uri": "https://localhost:8080/",
     "height": 224
    },
    "colab_type": "code",
    "executionInfo": {
     "elapsed": 1727,
     "status": "ok",
     "timestamp": 1552685914179,
     "user": {
      "displayName": "Noe Melo Locumber",
      "photoUrl": "",
      "userId": "11002635383473304946"
     },
     "user_tz": 300
    },
    "id": "2lakPzhz6RLR",
    "outputId": "1beec29d-e56f-4eee-a4c3-a850952c98a2"
   },
   "outputs": [
    {
     "data": {
      "text/html": [
       "<div>\n",
       "<style scoped>\n",
       "    .dataframe tbody tr th:only-of-type {\n",
       "        vertical-align: middle;\n",
       "    }\n",
       "\n",
       "    .dataframe tbody tr th {\n",
       "        vertical-align: top;\n",
       "    }\n",
       "\n",
       "    .dataframe thead th {\n",
       "        text-align: right;\n",
       "    }\n",
       "</style>\n",
       "<table border=\"1\" class=\"dataframe\">\n",
       "  <thead>\n",
       "    <tr style=\"text-align: right;\">\n",
       "      <th></th>\n",
       "      <th>checking_balance</th>\n",
       "      <th>months_loan_duration</th>\n",
       "      <th>credit_history</th>\n",
       "      <th>purpose</th>\n",
       "      <th>amount</th>\n",
       "      <th>savings_balance</th>\n",
       "      <th>employment_duration</th>\n",
       "      <th>percent_of_income</th>\n",
       "      <th>years_at_residence</th>\n",
       "      <th>age</th>\n",
       "      <th>other_credit</th>\n",
       "      <th>housing</th>\n",
       "      <th>existing_loans_count</th>\n",
       "      <th>job</th>\n",
       "      <th>dependents</th>\n",
       "      <th>phone</th>\n",
       "    </tr>\n",
       "  </thead>\n",
       "  <tbody>\n",
       "    <tr>\n",
       "      <th>0</th>\n",
       "      <td>3</td>\n",
       "      <td>12</td>\n",
       "      <td>0</td>\n",
       "      <td>3</td>\n",
       "      <td>2096</td>\n",
       "      <td>2</td>\n",
       "      <td>1</td>\n",
       "      <td>2</td>\n",
       "      <td>3</td>\n",
       "      <td>49</td>\n",
       "      <td>1</td>\n",
       "      <td>1</td>\n",
       "      <td>1</td>\n",
       "      <td>3</td>\n",
       "      <td>2</td>\n",
       "      <td>0</td>\n",
       "    </tr>\n",
       "    <tr>\n",
       "      <th>1</th>\n",
       "      <td>0</td>\n",
       "      <td>30</td>\n",
       "      <td>0</td>\n",
       "      <td>1</td>\n",
       "      <td>5234</td>\n",
       "      <td>2</td>\n",
       "      <td>4</td>\n",
       "      <td>4</td>\n",
       "      <td>2</td>\n",
       "      <td>28</td>\n",
       "      <td>1</td>\n",
       "      <td>1</td>\n",
       "      <td>2</td>\n",
       "      <td>0</td>\n",
       "      <td>1</td>\n",
       "      <td>0</td>\n",
       "    </tr>\n",
       "    <tr>\n",
       "      <th>2</th>\n",
       "      <td>0</td>\n",
       "      <td>12</td>\n",
       "      <td>1</td>\n",
       "      <td>1</td>\n",
       "      <td>1295</td>\n",
       "      <td>2</td>\n",
       "      <td>2</td>\n",
       "      <td>3</td>\n",
       "      <td>1</td>\n",
       "      <td>25</td>\n",
       "      <td>1</td>\n",
       "      <td>2</td>\n",
       "      <td>1</td>\n",
       "      <td>1</td>\n",
       "      <td>1</td>\n",
       "      <td>0</td>\n",
       "    </tr>\n",
       "    <tr>\n",
       "      <th>3</th>\n",
       "      <td>1</td>\n",
       "      <td>24</td>\n",
       "      <td>0</td>\n",
       "      <td>1</td>\n",
       "      <td>1199</td>\n",
       "      <td>2</td>\n",
       "      <td>3</td>\n",
       "      <td>4</td>\n",
       "      <td>4</td>\n",
       "      <td>60</td>\n",
       "      <td>1</td>\n",
       "      <td>1</td>\n",
       "      <td>2</td>\n",
       "      <td>3</td>\n",
       "      <td>1</td>\n",
       "      <td>0</td>\n",
       "    </tr>\n",
       "    <tr>\n",
       "      <th>4</th>\n",
       "      <td>3</td>\n",
       "      <td>6</td>\n",
       "      <td>2</td>\n",
       "      <td>4</td>\n",
       "      <td>426</td>\n",
       "      <td>2</td>\n",
       "      <td>3</td>\n",
       "      <td>4</td>\n",
       "      <td>4</td>\n",
       "      <td>39</td>\n",
       "      <td>1</td>\n",
       "      <td>1</td>\n",
       "      <td>1</td>\n",
       "      <td>3</td>\n",
       "      <td>1</td>\n",
       "      <td>0</td>\n",
       "    </tr>\n",
       "  </tbody>\n",
       "</table>\n",
       "</div>"
      ],
      "text/plain": [
       "   checking_balance  months_loan_duration  credit_history  purpose  amount  \\\n",
       "0                 3                    12               0        3    2096   \n",
       "1                 0                    30               0        1    5234   \n",
       "2                 0                    12               1        1    1295   \n",
       "3                 1                    24               0        1    1199   \n",
       "4                 3                     6               2        4     426   \n",
       "\n",
       "   savings_balance  employment_duration  percent_of_income  \\\n",
       "0                2                    1                  2   \n",
       "1                2                    4                  4   \n",
       "2                2                    2                  3   \n",
       "3                2                    3                  4   \n",
       "4                2                    3                  4   \n",
       "\n",
       "   years_at_residence  age  other_credit  housing  existing_loans_count  job  \\\n",
       "0                   3   49             1        1                     1    3   \n",
       "1                   2   28             1        1                     2    0   \n",
       "2                   1   25             1        2                     1    1   \n",
       "3                   4   60             1        1                     2    3   \n",
       "4                   4   39             1        1                     1    3   \n",
       "\n",
       "   dependents  phone  \n",
       "0           2      0  \n",
       "1           1      0  \n",
       "2           1      0  \n",
       "3           1      0  \n",
       "4           1      0  "
      ]
     },
     "execution_count": 178,
     "metadata": {
      "tags": []
     },
     "output_type": "execute_result"
    }
   ],
   "source": [
    "X_test.head()"
   ]
  },
  {
   "cell_type": "code",
   "execution_count": 179,
   "metadata": {
    "colab": {
     "base_uri": "https://localhost:8080/",
     "height": 119
    },
    "colab_type": "code",
    "executionInfo": {
     "elapsed": 1709,
     "status": "ok",
     "timestamp": 1552685914180,
     "user": {
      "displayName": "Noe Melo Locumber",
      "photoUrl": "",
      "userId": "11002635383473304946"
     },
     "user_tz": 300
    },
    "id": "p74HjzBT6fZo",
    "outputId": "769e820c-5872-42b5-e593-d68749ddc02d"
   },
   "outputs": [
    {
     "data": {
      "text/plain": [
       "0     no\n",
       "1    yes\n",
       "2    yes\n",
       "3    yes\n",
       "4     no\n",
       "Name: default, dtype: object"
      ]
     },
     "execution_count": 179,
     "metadata": {
      "tags": []
     },
     "output_type": "execute_result"
    }
   ],
   "source": [
    "y_test = credit_test.default\n",
    "y_test.head()"
   ]
  },
  {
   "cell_type": "code",
   "execution_count": 180,
   "metadata": {
    "colab": {
     "base_uri": "https://localhost:8080/",
     "height": 68
    },
    "colab_type": "code",
    "executionInfo": {
     "elapsed": 1700,
     "status": "ok",
     "timestamp": 1552685914182,
     "user": {
      "displayName": "Noe Melo Locumber",
      "photoUrl": "",
      "userId": "11002635383473304946"
     },
     "user_tz": 300
    },
    "id": "UsviA52o6fmC",
    "outputId": "a2be0ef5-8d5f-4b45-a561-c30fd0dafe93"
   },
   "outputs": [
    {
     "data": {
      "text/plain": [
       "0    138\n",
       "1     62\n",
       "dtype: int64"
      ]
     },
     "execution_count": 180,
     "metadata": {
      "tags": []
     },
     "output_type": "execute_result"
    }
   ],
   "source": [
    "l=LabelEncoder()\n",
    "l.fit(y_test)\n",
    "l.classes_\n",
    "y_test = Series(l.transform(y_test))\n",
    "y_test.value_counts()"
   ]
  },
  {
   "cell_type": "code",
   "execution_count": 181,
   "metadata": {
    "colab": {
     "base_uri": "https://localhost:8080/",
     "height": 119
    },
    "colab_type": "code",
    "executionInfo": {
     "elapsed": 1691,
     "status": "ok",
     "timestamp": 1552685914185,
     "user": {
      "displayName": "Noe Melo Locumber",
      "photoUrl": "",
      "userId": "11002635383473304946"
     },
     "user_tz": 300
    },
    "id": "ZvEV3dlL6fYZ",
    "outputId": "5279d627-d8bc-43e6-c296-3e150ff8741e"
   },
   "outputs": [
    {
     "data": {
      "text/plain": [
       "0    0\n",
       "1    1\n",
       "2    1\n",
       "3    1\n",
       "4    0\n",
       "dtype: int64"
      ]
     },
     "execution_count": 181,
     "metadata": {
      "tags": []
     },
     "output_type": "execute_result"
    }
   ],
   "source": [
    "y_test.head()"
   ]
  },
  {
   "cell_type": "markdown",
   "metadata": {
    "colab_type": "text",
    "id": "socvNJi-ytdF"
   },
   "source": [
    "## XGBOOST"
   ]
  },
  {
   "cell_type": "code",
   "execution_count": 0,
   "metadata": {
    "colab": {},
    "colab_type": "code",
    "id": "2xKg88iErJZC"
   },
   "outputs": [],
   "source": [
    "import xgboost as xgb"
   ]
  },
  {
   "cell_type": "markdown",
   "metadata": {
    "colab_type": "text",
    "id": "VGXOW0M2LAjd"
   },
   "source": [
    "**MODELING**"
   ]
  },
  {
   "cell_type": "code",
   "execution_count": 0,
   "metadata": {
    "colab": {},
    "colab_type": "code",
    "id": "pHfbVFTGyz0R"
   },
   "outputs": [],
   "source": [
    "#DATA_MATRIZ\n",
    "dtrain = xgb.DMatrix(X_train,label = y_train)\n",
    "dtest = xgb.DMatrix(X_test)"
   ]
  },
  {
   "cell_type": "code",
   "execution_count": 0,
   "metadata": {
    "colab": {},
    "colab_type": "code",
    "id": "pGzQASqO0PA0"
   },
   "outputs": [],
   "source": [
    "#setting paramters for xgboost\n",
    "parameters = {'max_depth':7, 'eta':1,'silent':1, 'objective':'binary:logistic', 'eval_metric':'auc', 'learning_rate':.05 }"
   ]
  },
  {
   "cell_type": "code",
   "execution_count": 0,
   "metadata": {
    "colab": {},
    "colab_type": "code",
    "id": "TEt3QxW31MKA"
   },
   "outputs": [],
   "source": [
    "#trainning our model\n",
    "num_round = 50\n",
    "from datetime import datetime\n",
    "start = datetime.now()\n",
    "xg = xgb.train(parameters,dtrain,num_round)\n",
    "stop = datetime.now()"
   ]
  },
  {
   "cell_type": "code",
   "execution_count": 0,
   "metadata": {
    "colab": {},
    "colab_type": "code",
    "id": "q3hY8RXI2Jbx"
   },
   "outputs": [],
   "source": [
    "#execution time \n",
    "time_xgb = stop - start"
   ]
  },
  {
   "cell_type": "markdown",
   "metadata": {
    "colab_type": "text",
    "id": "pTDzJ3ITLQ3_"
   },
   "source": [
    "**EVALUATION**"
   ]
  },
  {
   "cell_type": "markdown",
   "metadata": {
    "colab_type": "text",
    "id": "oZ5N2xiNLQ2u"
   },
   "source": []
  },
  {
   "cell_type": "code",
   "execution_count": 187,
   "metadata": {
    "colab": {
     "base_uri": "https://localhost:8080/",
     "height": 714
    },
    "colab_type": "code",
    "executionInfo": {
     "elapsed": 1672,
     "status": "ok",
     "timestamp": 1552685914198,
     "user": {
      "displayName": "Noe Melo Locumber",
      "photoUrl": "",
      "userId": "11002635383473304946"
     },
     "user_tz": 300
    },
    "id": "WXu2p2xq2dTv",
    "outputId": "9a128f32-3fd5-4e94-fa6a-addc1815c75b"
   },
   "outputs": [
    {
     "data": {
      "text/plain": [
       "array([0.0576172 , 0.59876496, 0.5590242 , 0.28049597, 0.15140143,\n",
       "       0.29283163, 0.64435107, 0.23896916, 0.10369685, 0.09551914,\n",
       "       0.23230721, 0.59086305, 0.14297985, 0.84945136, 0.300954  ,\n",
       "       0.13111413, 0.30531082, 0.06627312, 0.38860214, 0.08819923,\n",
       "       0.18013299, 0.25114733, 0.35819864, 0.78397965, 0.6482732 ,\n",
       "       0.10785346, 0.30324018, 0.6800812 , 0.09896525, 0.5647177 ,\n",
       "       0.704555  , 0.6805532 , 0.16142206, 0.1728039 , 0.5035974 ,\n",
       "       0.1258898 , 0.27195242, 0.4647386 , 0.1000329 , 0.13310708,\n",
       "       0.29699275, 0.1684398 , 0.21482386, 0.626669  , 0.13442923,\n",
       "       0.62567824, 0.09651878, 0.668711  , 0.09940501, 0.48921102,\n",
       "       0.63088727, 0.24161544, 0.1369963 , 0.58391154, 0.26627666,\n",
       "       0.10178561, 0.11944924, 0.17856108, 0.26019073, 0.08291978,\n",
       "       0.09209032, 0.1408142 , 0.08839826, 0.15441802, 0.11874873,\n",
       "       0.33215466, 0.082642  , 0.5156243 , 0.5158691 , 0.24940099,\n",
       "       0.58310777, 0.05538278, 0.35208476, 0.6333825 , 0.13787158,\n",
       "       0.09293397, 0.3607945 , 0.45558497, 0.458821  , 0.19285779,\n",
       "       0.1957259 , 0.38463402, 0.380708  , 0.05530536, 0.06606787,\n",
       "       0.2156891 , 0.21511969, 0.5176055 , 0.25432545, 0.52537644,\n",
       "       0.72435105, 0.1911433 , 0.11802845, 0.35445312, 0.07271376,\n",
       "       0.09027945, 0.34131086, 0.50999695, 0.19393219, 0.36405486,\n",
       "       0.2897232 , 0.13336106, 0.22643699, 0.48153093, 0.571327  ,\n",
       "       0.3416696 , 0.0742462 , 0.26625878, 0.38854527, 0.12538832,\n",
       "       0.51793224, 0.43399626, 0.72337633, 0.51623446, 0.314435  ,\n",
       "       0.38859737, 0.37653312, 0.27949843, 0.5362317 , 0.5808978 ,\n",
       "       0.10475704, 0.41829574, 0.3009315 , 0.06201113, 0.06179486,\n",
       "       0.36703223, 0.4885592 , 0.17070417, 0.12925184, 0.60858804,\n",
       "       0.14575635, 0.07598062, 0.18055142, 0.52236545, 0.23523389,\n",
       "       0.2612148 , 0.6207637 , 0.4142288 , 0.15987201, 0.30874327,\n",
       "       0.3593209 , 0.15277609, 0.7136553 , 0.12480035, 0.607038  ,\n",
       "       0.07793207, 0.72337633, 0.4636623 , 0.12116285, 0.08639661,\n",
       "       0.17054528, 0.13153936, 0.25237882, 0.2797594 , 0.07893895,\n",
       "       0.09293775, 0.5391805 , 0.33555043, 0.07096539, 0.40893346,\n",
       "       0.3478696 , 0.5358507 , 0.06077578, 0.13304481, 0.2859067 ,\n",
       "       0.10548159, 0.6294286 , 0.4123269 , 0.25379774, 0.28468996,\n",
       "       0.11292029, 0.15679246, 0.37489578, 0.6028942 , 0.09460969,\n",
       "       0.15486294, 0.11900923, 0.24607779, 0.46108815, 0.05515992,\n",
       "       0.12301677, 0.5758196 , 0.23397656, 0.18180932, 0.5240856 ,\n",
       "       0.2275681 , 0.49004203, 0.36521256, 0.4004109 , 0.07622981,\n",
       "       0.14102861, 0.36524194, 0.51811355, 0.38799998, 0.35383716,\n",
       "       0.15444136, 0.5884316 , 0.23960595, 0.08140925, 0.6846325 ],\n",
       "      dtype=float32)"
      ]
     },
     "execution_count": 187,
     "metadata": {
      "tags": []
     },
     "output_type": "execute_result"
    }
   ],
   "source": [
    "ypred = xg.predict(dtest)\n",
    "ypred\n"
   ]
  },
  {
   "cell_type": "code",
   "execution_count": 188,
   "metadata": {
    "colab": {
     "base_uri": "https://localhost:8080/",
     "height": 34
    },
    "colab_type": "code",
    "executionInfo": {
     "elapsed": 1662,
     "status": "ok",
     "timestamp": 1552685914199,
     "user": {
      "displayName": "Noe Melo Locumber",
      "photoUrl": "",
      "userId": "11002635383473304946"
     },
     "user_tz": 300
    },
    "id": "RMF4rc8tG1VJ",
    "outputId": "ee2883f2-a28e-458b-ff63-a5fde6c74a50"
   },
   "outputs": [
    {
     "data": {
      "text/plain": [
       "(200,)"
      ]
     },
     "execution_count": 188,
     "metadata": {
      "tags": []
     },
     "output_type": "execute_result"
    }
   ],
   "source": [
    "ypred.shape"
   ]
  },
  {
   "cell_type": "code",
   "execution_count": 0,
   "metadata": {
    "colab": {},
    "colab_type": "code",
    "id": "Q7M0Pqc47GJy"
   },
   "outputs": [],
   "source": [
    "#CONVERTING PROBABILITIES IN 1 OR 0\n",
    "for i in range(0,200):\n",
    "  if ypred[i]>= .5:\n",
    "    ypred[i]=1\n",
    "  else:\n",
    "      ypred[i]=0"
   ]
  },
  {
   "cell_type": "code",
   "execution_count": 0,
   "metadata": {
    "colab": {},
    "colab_type": "code",
    "id": "I0_T7OXxHI3H"
   },
   "outputs": [],
   "source": [
    "#CALCULATING ACCURACY OF OUR MODEL\n",
    "from sklearn.metrics import accuracy_score"
   ]
  },
  {
   "cell_type": "code",
   "execution_count": 191,
   "metadata": {
    "colab": {
     "base_uri": "https://localhost:8080/",
     "height": 34
    },
    "colab_type": "code",
    "executionInfo": {
     "elapsed": 1656,
     "status": "ok",
     "timestamp": 1552685914206,
     "user": {
      "displayName": "Noe Melo Locumber",
      "photoUrl": "",
      "userId": "11002635383473304946"
     },
     "user_tz": 300
    },
    "id": "p7ozZuweHhHr",
    "outputId": "fb3c8638-1211-4f52-e054-be5e21a995dc"
   },
   "outputs": [
    {
     "data": {
      "text/plain": [
       "0.75"
      ]
     },
     "execution_count": 191,
     "metadata": {
      "tags": []
     },
     "output_type": "execute_result"
    }
   ],
   "source": [
    "accuracy_xgb = accuracy_score(y_test,ypred)\n",
    "accuracy_xgb"
   ]
  },
  {
   "cell_type": "markdown",
   "metadata": {
    "colab_type": "text",
    "id": "z-8_qwVkLXXK"
   },
   "source": []
  },
  {
   "cell_type": "markdown",
   "metadata": {
    "colab_type": "text",
    "id": "prZqeF3FLXZS"
   },
   "source": [
    "## LIGHT GBM"
   ]
  },
  {
   "cell_type": "code",
   "execution_count": 0,
   "metadata": {
    "colab": {},
    "colab_type": "code",
    "id": "09SkHsYeKt5y"
   },
   "outputs": [],
   "source": [
    "import lightgbm as lgb"
   ]
  },
  {
   "cell_type": "markdown",
   "metadata": {
    "colab_type": "text",
    "id": "I8IhyTPyMKLa"
   },
   "source": [
    "**MODELING**"
   ]
  },
  {
   "cell_type": "code",
   "execution_count": 0,
   "metadata": {
    "colab": {},
    "colab_type": "code",
    "id": "8EcwCymHL2vi"
   },
   "outputs": [],
   "source": [
    "train_data = lgb.Dataset(X_train,y_train)"
   ]
  },
  {
   "cell_type": "code",
   "execution_count": 0,
   "metadata": {
    "colab": {},
    "colab_type": "code",
    "id": "Pvom7NveMHjW"
   },
   "outputs": [],
   "source": [
    "#setting parameters for lightgmb\n",
    "param = {'num_leaves':150, 'objective':'binary','max_depth':7,'learning_rate':.05,'max_bin':200}\n",
    "param['metric'] = ['auc','binary_logloss']"
   ]
  },
  {
   "cell_type": "code",
   "execution_count": 0,
   "metadata": {
    "colab": {},
    "colab_type": "code",
    "id": "E7jh2RPONYc6"
   },
   "outputs": [],
   "source": [
    "num_round = 50\n",
    "start = datetime.now()\n",
    "lgbm = lgb.train(param,train_data,num_round)\n",
    "stop = datetime.now()"
   ]
  },
  {
   "cell_type": "code",
   "execution_count": 0,
   "metadata": {
    "colab": {},
    "colab_type": "code",
    "id": "1l9f5W5bOHgR"
   },
   "outputs": [],
   "source": [
    "time_lgbm = stop-start"
   ]
  },
  {
   "cell_type": "code",
   "execution_count": 197,
   "metadata": {
    "colab": {
     "base_uri": "https://localhost:8080/",
     "height": 697
    },
    "colab_type": "code",
    "executionInfo": {
     "elapsed": 2045,
     "status": "ok",
     "timestamp": 1552685914650,
     "user": {
      "displayName": "Noe Melo Locumber",
      "photoUrl": "",
      "userId": "11002635383473304946"
     },
     "user_tz": 300
    },
    "id": "sh0Y_BilOJz3",
    "outputId": "297db906-1e6c-4f53-b66e-ee0195a27239"
   },
   "outputs": [
    {
     "data": {
      "text/plain": [
       "array([0.03543562, 0.5900368 , 0.4483666 , 0.22778544, 0.1271102 ,\n",
       "       0.31545179, 0.55715954, 0.20648013, 0.20717641, 0.16329221,\n",
       "       0.1668392 , 0.55532356, 0.18249943, 0.81571899, 0.37458227,\n",
       "       0.11588068, 0.2678978 , 0.06859158, 0.39998839, 0.11897259,\n",
       "       0.20245981, 0.1975686 , 0.21490343, 0.6749546 , 0.49655816,\n",
       "       0.1116232 , 0.34980368, 0.64725025, 0.16098036, 0.6009911 ,\n",
       "       0.62307557, 0.72424933, 0.10373476, 0.29169815, 0.48701769,\n",
       "       0.17831584, 0.0449393 , 0.3713078 , 0.04842527, 0.07193517,\n",
       "       0.36544857, 0.22726076, 0.2038062 , 0.6818611 , 0.11748428,\n",
       "       0.44472707, 0.06837162, 0.5667402 , 0.20009363, 0.59180999,\n",
       "       0.59170607, 0.26512178, 0.07899413, 0.62624458, 0.22672643,\n",
       "       0.05812856, 0.14928694, 0.14399873, 0.38051555, 0.05382413,\n",
       "       0.10594156, 0.07193517, 0.11077414, 0.13069854, 0.10957288,\n",
       "       0.23220298, 0.08453026, 0.5255192 , 0.38121549, 0.17739296,\n",
       "       0.68407861, 0.05426039, 0.21263941, 0.55815411, 0.11800126,\n",
       "       0.08654845, 0.29898738, 0.33898426, 0.47751386, 0.15203205,\n",
       "       0.06637722, 0.46953539, 0.28018572, 0.04260133, 0.04213556,\n",
       "       0.17356406, 0.25159346, 0.25127399, 0.13085501, 0.21436563,\n",
       "       0.74879474, 0.12075332, 0.08733226, 0.34599439, 0.03405401,\n",
       "       0.06150148, 0.4542262 , 0.51345754, 0.22812686, 0.38975782,\n",
       "       0.26399776, 0.12677748, 0.28456216, 0.6433738 , 0.67759376,\n",
       "       0.36414157, 0.04297517, 0.26052008, 0.21354967, 0.16488012,\n",
       "       0.50563929, 0.25349492, 0.6664107 , 0.54499178, 0.3558743 ,\n",
       "       0.37141296, 0.28200909, 0.29227611, 0.30900368, 0.5547609 ,\n",
       "       0.05479878, 0.37981837, 0.17980889, 0.04504572, 0.07879952,\n",
       "       0.40022095, 0.34753747, 0.07080996, 0.11460197, 0.52833339,\n",
       "       0.13904182, 0.04883394, 0.1743868 , 0.41298402, 0.13738359,\n",
       "       0.22219789, 0.74412474, 0.39425194, 0.15414901, 0.29998919,\n",
       "       0.3496681 , 0.11226208, 0.77926962, 0.26007638, 0.64473482,\n",
       "       0.08598048, 0.65733803, 0.42037969, 0.06937434, 0.04569417,\n",
       "       0.13561908, 0.11409832, 0.34865904, 0.39078012, 0.07335365,\n",
       "       0.05640729, 0.27388059, 0.26981774, 0.02566686, 0.46662679,\n",
       "       0.22459922, 0.75439304, 0.03621278, 0.2260304 , 0.3153506 ,\n",
       "       0.06901337, 0.40605626, 0.3400418 , 0.14619217, 0.30628258,\n",
       "       0.13400878, 0.12887471, 0.42828186, 0.66246433, 0.11828944,\n",
       "       0.17114387, 0.09247932, 0.2724697 , 0.34975108, 0.03787606,\n",
       "       0.0605453 , 0.52680323, 0.14717765, 0.07080839, 0.52558632,\n",
       "       0.18180232, 0.59617841, 0.15472093, 0.29782766, 0.04830438,\n",
       "       0.05489467, 0.29865396, 0.68813914, 0.21247389, 0.20065241,\n",
       "       0.14187736, 0.67829585, 0.24513511, 0.04276629, 0.68881551])"
      ]
     },
     "execution_count": 197,
     "metadata": {
      "tags": []
     },
     "output_type": "execute_result"
    }
   ],
   "source": [
    "ypred2 = lgbm.predict(X_test)\n",
    "ypred2"
   ]
  },
  {
   "cell_type": "code",
   "execution_count": 0,
   "metadata": {
    "colab": {},
    "colab_type": "code",
    "id": "Kr5uE5opOtWm"
   },
   "outputs": [],
   "source": [
    "#CONVERTING PROBABILITIES IN 1 OR 0\n",
    "for i in range(0,200):\n",
    "  if ypred2[i]>= .5:\n",
    "    ypred2[i]=1\n",
    "  else:\n",
    "      ypred2[i]=0"
   ]
  },
  {
   "cell_type": "code",
   "execution_count": 199,
   "metadata": {
    "colab": {
     "base_uri": "https://localhost:8080/",
     "height": 34
    },
    "colab_type": "code",
    "executionInfo": {
     "elapsed": 2033,
     "status": "ok",
     "timestamp": 1552685914653,
     "user": {
      "displayName": "Noe Melo Locumber",
      "photoUrl": "",
      "userId": "11002635383473304946"
     },
     "user_tz": 300
    },
    "id": "9yEJpNXRO9qN",
    "outputId": "aa66ec50-805e-456c-a4bf-2181487c6037"
   },
   "outputs": [
    {
     "data": {
      "text/plain": [
       "0.77"
      ]
     },
     "execution_count": 199,
     "metadata": {
      "tags": []
     },
     "output_type": "execute_result"
    }
   ],
   "source": [
    "accuracy_lgbm = accuracy_score(y_test,ypred2)\n",
    "accuracy_lgbm"
   ]
  },
  {
   "cell_type": "code",
   "execution_count": 0,
   "metadata": {
    "colab": {},
    "colab_type": "code",
    "id": "uGL9-OprPI6-"
   },
   "outputs": [],
   "source": [
    "#CALCULATING AUC \n",
    "from sklearn.metrics import roc_auc_score"
   ]
  },
  {
   "cell_type": "code",
   "execution_count": 201,
   "metadata": {
    "colab": {
     "base_uri": "https://localhost:8080/",
     "height": 34
    },
    "colab_type": "code",
    "executionInfo": {
     "elapsed": 2017,
     "status": "ok",
     "timestamp": 1552685914658,
     "user": {
      "displayName": "Noe Melo Locumber",
      "photoUrl": "",
      "userId": "11002635383473304946"
     },
     "user_tz": 300
    },
    "id": "V8LI6arGQElY",
    "outputId": "5ed96abe-95c1-467f-9570-a0ecb54a43ca"
   },
   "outputs": [
    {
     "data": {
      "text/plain": [
       "0.6722767648433848"
      ]
     },
     "execution_count": 201,
     "metadata": {
      "tags": []
     },
     "output_type": "execute_result"
    }
   ],
   "source": [
    "#xgboost\n",
    "auc_xgb = roc_auc_score(y_test,ypred)\n",
    "auc_xgb"
   ]
  },
  {
   "cell_type": "code",
   "execution_count": 202,
   "metadata": {
    "colab": {
     "base_uri": "https://localhost:8080/",
     "height": 34
    },
    "colab_type": "code",
    "executionInfo": {
     "elapsed": 2008,
     "status": "ok",
     "timestamp": 1552685914659,
     "user": {
      "displayName": "Noe Melo Locumber",
      "photoUrl": "",
      "userId": "11002635383473304946"
     },
     "user_tz": 300
    },
    "id": "3BfdNua2QWSt",
    "outputId": "c83870d4-0d6c-4d56-af27-3cd73aa27a92"
   },
   "outputs": [
    {
     "data": {
      "text/plain": [
       "0.6778868630201029"
      ]
     },
     "execution_count": 202,
     "metadata": {
      "tags": []
     },
     "output_type": "execute_result"
    }
   ],
   "source": [
    "#light gbm\n",
    "auc_lgm = roc_auc_score(y_test,ypred2)\n",
    "auc_lgm"
   ]
  },
  {
   "cell_type": "markdown",
   "metadata": {
    "colab_type": "text",
    "id": "egaEO6LbRPrW"
   },
   "source": [
    "## COMPARISON XGBOOST VS LIGHT GBM"
   ]
  },
  {
   "cell_type": "code",
   "execution_count": 0,
   "metadata": {
    "colab": {},
    "colab_type": "code",
    "id": "slsq07aTQpHz"
   },
   "outputs": [],
   "source": [
    "comparison = {'accuracy score': (accuracy_xgb,accuracy_lgbm),'auc score': (auc_xgb,auc_lgm),'execution time':(time_xgb,time_lgbm)}"
   ]
  },
  {
   "cell_type": "code",
   "execution_count": 205,
   "metadata": {
    "colab": {
     "base_uri": "https://localhost:8080/",
     "height": 111
    },
    "colab_type": "code",
    "executionInfo": {
     "elapsed": 739,
     "status": "ok",
     "timestamp": 1552686066671,
     "user": {
      "displayName": "Noe Melo Locumber",
      "photoUrl": "",
      "userId": "11002635383473304946"
     },
     "user_tz": 300
    },
    "id": "LcQCJrT8Sxex",
    "outputId": "f15b7ebc-1797-432e-b0cb-6abb8b4c382e"
   },
   "outputs": [
    {
     "data": {
      "text/html": [
       "<div>\n",
       "<style scoped>\n",
       "    .dataframe tbody tr th:only-of-type {\n",
       "        vertical-align: middle;\n",
       "    }\n",
       "\n",
       "    .dataframe tbody tr th {\n",
       "        vertical-align: top;\n",
       "    }\n",
       "\n",
       "    .dataframe thead th {\n",
       "        text-align: right;\n",
       "    }\n",
       "</style>\n",
       "<table border=\"1\" class=\"dataframe\">\n",
       "  <thead>\n",
       "    <tr style=\"text-align: right;\">\n",
       "      <th></th>\n",
       "      <th>accuracy score</th>\n",
       "      <th>auc score</th>\n",
       "      <th>execution time</th>\n",
       "    </tr>\n",
       "  </thead>\n",
       "  <tbody>\n",
       "    <tr>\n",
       "      <th>XGBoost</th>\n",
       "      <td>0.75</td>\n",
       "      <td>0.672277</td>\n",
       "      <td>00:00:00.054750</td>\n",
       "    </tr>\n",
       "    <tr>\n",
       "      <th>LightBoost</th>\n",
       "      <td>0.77</td>\n",
       "      <td>0.677887</td>\n",
       "      <td>00:00:00.095064</td>\n",
       "    </tr>\n",
       "  </tbody>\n",
       "</table>\n",
       "</div>"
      ],
      "text/plain": [
       "            accuracy score  auc score  execution time\n",
       "XGBoost               0.75   0.672277 00:00:00.054750\n",
       "LightBoost            0.77   0.677887 00:00:00.095064"
      ]
     },
     "execution_count": 205,
     "metadata": {
      "tags": []
     },
     "output_type": "execute_result"
    }
   ],
   "source": [
    "comparison_df = DataFrame(comparison)\n",
    "comparison_df.index = ['XGBoost','LightBoost']\n",
    "comparison_df"
   ]
  },
  {
   "cell_type": "code",
   "execution_count": 0,
   "metadata": {
    "colab": {},
    "colab_type": "code",
    "id": "VP088my7TNvQ"
   },
   "outputs": [],
   "source": []
  }
 ],
 "metadata": {
  "colab": {
   "collapsed_sections": [],
   "name": "XGBOOST_LIGHTGBM.ipynb",
   "provenance": [],
   "version": "0.3.2"
  },
  "kernelspec": {
   "display_name": "Python 3",
   "language": "python",
   "name": "python3"
  },
  "language_info": {
   "codemirror_mode": {
    "name": "ipython",
    "version": 3
   },
   "file_extension": ".py",
   "mimetype": "text/x-python",
   "name": "python",
   "nbconvert_exporter": "python",
   "pygments_lexer": "ipython3",
   "version": "3.6.5"
  }
 },
 "nbformat": 4,
 "nbformat_minor": 1
}
